{
 "cells": [
  {
   "cell_type": "code",
   "execution_count": 30,
   "id": "fa365189",
   "metadata": {},
   "outputs": [
    {
     "name": "stdout",
     "output_type": "stream",
     "text": [
      "(2, 3)\n",
      "2\n"
     ]
    }
   ],
   "source": [
    "import numpy as np\n",
    "\n",
    "x = np.array([[1, 2, 3], [4, 5, 6]])\n",
    "\n",
    "print(x.shape)\n",
    "print(x.ndim)"
   ]
  },
  {
   "cell_type": "code",
   "execution_count": 31,
   "id": "54d3bf77",
   "metadata": {},
   "outputs": [
    {
     "name": "stdout",
     "output_type": "stream",
     "text": [
      "32\n",
      "32\n",
      "32\n"
     ]
    }
   ],
   "source": [
    "# 벡터의 내적 (1차원 * 1차원)\n",
    "a = np.array([1, 2, 3])\n",
    "b = np.array([4, 5, 6])\n",
    "\n",
    "print(np.dot(a, b))\n",
    "print(np.matmul(a, b))\n",
    "print(a @ b)"
   ]
  },
  {
   "cell_type": "code",
   "execution_count": 32,
   "id": "875e95ce",
   "metadata": {},
   "outputs": [
    {
     "name": "stdout",
     "output_type": "stream",
     "text": [
      "[[19 22]\n",
      " [43 50]]\n",
      "[[19 22]\n",
      " [43 50]]\n",
      "[[19 22]\n",
      " [43 50]]\n"
     ]
    }
   ],
   "source": [
    "# 행렬의 곱 (2차원 * 2차원)\n",
    "a = np.array([[1, 2], [3, 4]])\n",
    "b = np.array([[5, 6], [7, 8]])\n",
    "\n",
    "print(np.dot(a, b))\n",
    "print(np.matmul(a, b))\n",
    "print(a @ b)"
   ]
  },
  {
   "cell_type": "code",
   "execution_count": 33,
   "id": "ed0078ee",
   "metadata": {},
   "outputs": [
    {
     "name": "stdout",
     "output_type": "stream",
     "text": [
      "[17 39]\n",
      "[17 39]\n",
      "[17 39]\n",
      "[23 34]\n",
      "[23 34]\n",
      "[23 34]\n"
     ]
    }
   ],
   "source": [
    "# 행렬의 곱 (2차원 * 1차원)\n",
    "a = np.array([[1, 2], [3, 4]])\n",
    "b = np.array([5, 6])\n",
    "\n",
    "print(np.dot(a, b))\n",
    "print(np.matmul(a, b))\n",
    "print(a @ b)\n",
    "\n",
    "print(np.dot(b, a))\n",
    "print(np.matmul(b, a))\n",
    "print(b @ a)"
   ]
  },
  {
   "cell_type": "code",
   "execution_count": 34,
   "id": "66609f6c",
   "metadata": {},
   "outputs": [
    {
     "name": "stdout",
     "output_type": "stream",
     "text": [
      "[[2 4]\n",
      " [6 8]]\n",
      "[[2 4]\n",
      " [6 8]]\n"
     ]
    },
    {
     "ename": "ValueError",
     "evalue": "matmul: Input operand 1 does not have enough dimensions (has 0, gufunc core with signature (n?,k),(k,m?)->(n?,m?) requires 1)",
     "output_type": "error",
     "traceback": [
      "\u001b[0;31m---------------------------------------------------------------------------\u001b[0m",
      "\u001b[0;31mValueError\u001b[0m                                Traceback (most recent call last)",
      "Cell \u001b[0;32mIn[34], line 7\u001b[0m\n\u001b[1;32m      5\u001b[0m \u001b[38;5;28mprint\u001b[39m(a \u001b[38;5;241m*\u001b[39m b)\n\u001b[1;32m      6\u001b[0m \u001b[38;5;28mprint\u001b[39m(np\u001b[38;5;241m.\u001b[39mdot(a, b))\n\u001b[0;32m----> 7\u001b[0m \u001b[38;5;28mprint\u001b[39m(np\u001b[38;5;241m.\u001b[39mmatmul(a, b)) \u001b[38;5;66;03m# 오류 발생\u001b[39;00m\n\u001b[1;32m      8\u001b[0m \u001b[38;5;28mprint\u001b[39m(a \u001b[38;5;241m@\u001b[39m b)\n",
      "\u001b[0;31mValueError\u001b[0m: matmul: Input operand 1 does not have enough dimensions (has 0, gufunc core with signature (n?,k),(k,m?)->(n?,m?) requires 1)"
     ]
    }
   ],
   "source": [
    "# 행렬 * 스칼라\n",
    "a = np.array([[1, 2], [3, 4]])\n",
    "b = 2\n",
    "\n",
    "print(a * b)\n",
    "print(np.dot(a, b))\n",
    "print(np.matmul(a, b)) # 오류 발생\n",
    "print(a @ b) # 오류 발생"
   ]
  },
  {
   "cell_type": "code",
   "execution_count": 35,
   "id": "d333d27f",
   "metadata": {},
   "outputs": [
    {
     "name": "stdout",
     "output_type": "stream",
     "text": [
      "(5, 7, 4, 5, 7, 6)\n",
      "(5, 7, 4, 6)\n",
      "(5, 7, 4, 6)\n"
     ]
    }
   ],
   "source": [
    "# 3차원 이상 행렬 곱\n",
    "a = np.ones([5, 7, 4, 3])\n",
    "b = np.ones([5, 7, 3, 6])\n",
    "\n",
    "print(np.dot(a, b).shape)\n",
    "print(np.matmul(a, b).shape)\n",
    "print((a @ b).shape)"
   ]
  },
  {
   "cell_type": "code",
   "execution_count": null,
   "id": "b8771433",
   "metadata": {},
   "outputs": [],
   "source": []
  }
 ],
 "metadata": {
  "kernelspec": {
   "display_name": "base",
   "language": "python",
   "name": "python3"
  },
  "language_info": {
   "codemirror_mode": {
    "name": "ipython",
    "version": 3
   },
   "file_extension": ".py",
   "mimetype": "text/x-python",
   "name": "python",
   "nbconvert_exporter": "python",
   "pygments_lexer": "ipython3",
   "version": "3.12.7"
  }
 },
 "nbformat": 4,
 "nbformat_minor": 5
}
